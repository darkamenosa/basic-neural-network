{
 "cells": [
  {
   "cell_type": "code",
   "execution_count": 2,
   "metadata": {
    "collapsed": true
   },
   "outputs": [],
   "source": [
    "import numpy as np\n",
    "import matplotlib.pyplot as plt\n",
    "from sgd_utils import *\n"
   ]
  },
  {
   "cell_type": "markdown",
   "metadata": {},
   "source": [
    "## Load and normalize data"
   ]
  },
  {
   "cell_type": "code",
   "execution_count": 3,
   "metadata": {},
   "outputs": [
    {
     "name": "stdout",
     "output_type": "stream",
     "text": [
      "X shape:  (12288, 209)\n",
      "Y shape:  (1, 209)\n",
      "X_test shape:  (12288, 50)\n",
      "Y_test shape:  (1, 50)\n"
     ]
    }
   ],
   "source": [
    "train_set_x_orig, train_set_y_orig, test_set_x_orig, test_set_y_orig = load_data()\n",
    "X = (train_set_x_orig.reshape(train_set_x_orig.shape[0], -1) / 255.).T\n",
    "Y = (train_set_y_orig.reshape(train_set_y_orig.shape[0], 1)).T\n",
    "X_test = (test_set_x_orig.reshape(test_set_x_orig.shape[0], -1) / 255.).T\n",
    "Y_test = (test_set_y_orig.reshape(test_set_y_orig.shape[0], 1)).T\n",
    "\n",
    "print('X shape: ', X.shape)\n",
    "print('Y shape: ', Y.shape)\n",
    "print('X_test shape: ', X_test.shape)\n",
    "print('Y_test shape: ', Y_test.shape)"
   ]
  },
  {
   "cell_type": "markdown",
   "metadata": {},
   "source": [
    "## Run model with only stochastic gradient descent"
   ]
  },
  {
   "cell_type": "code",
   "execution_count": null,
   "metadata": {},
   "outputs": [
    {
     "name": "stderr",
     "output_type": "stream",
     "text": [
      "/Users/tuyenhx/WorkSpace/research/deeplearning/basic-neural-network/sgd_utils.py:27: RuntimeWarning: overflow encountered in exp\n",
      "  A = 1/(1 + np.exp(-Z))\n",
      "/Users/tuyenhx/WorkSpace/research/deeplearning/basic-neural-network/sgd_utils.py:168: RuntimeWarning: divide by zero encountered in log\n",
      "  logprobs = np.multiply(Y, np.log(AL)) + np.multiply(1 - Y, np.log(1 - AL))\n",
      "/Users/tuyenhx/WorkSpace/research/deeplearning/basic-neural-network/sgd_utils.py:168: RuntimeWarning: invalid value encountered in multiply\n",
      "  logprobs = np.multiply(Y, np.log(AL)) + np.multiply(1 - Y, np.log(1 - AL))\n"
     ]
    },
    {
     "name": "stdout",
     "output_type": "stream",
     "text": [
      "cost after 0 epochs is: nan\n",
      "cost after 100 epochs is: 0.6035471651914283\n",
      "cost after 200 epochs is: 0.6869968854015027\n",
      "cost after 300 epochs is: 0.6780397365191416\n",
      "cost after 400 epochs is: 0.6375261274524762\n",
      "cost after 500 epochs is: 0.702455343266722\n",
      "cost after 600 epochs is: 0.6679279013946072\n",
      "cost after 700 epochs is: 0.610146357411565\n",
      "cost after 800 epochs is: 0.6479811855747655\n",
      "cost after 900 epochs is: 0.6072233176745843\n",
      "cost after 1000 epochs is: 0.6235375857960623\n",
      "cost after 1100 epochs is: 0.7850820274406273\n",
      "cost after 1200 epochs is: 0.5952960109550948\n",
      "cost after 1300 epochs is: 0.6169634674900544\n",
      "cost after 1400 epochs is: 0.6695294726803684\n",
      "cost after 1500 epochs is: 0.7012170890003881\n",
      "cost after 1600 epochs is: 0.5498220460407934\n",
      "cost after 1700 epochs is: 0.5770037330464949\n",
      "cost after 1800 epochs is: 0.6784004254907899\n",
      "cost after 1900 epochs is: 0.6786572024038854\n",
      "cost after 2000 epochs is: 0.5954393283659453\n",
      "cost after 2100 epochs is: 0.7354048168832689\n",
      "cost after 2200 epochs is: 0.7082566481494386\n",
      "cost after 2300 epochs is: 0.6505817910907903\n",
      "cost after 2400 epochs is: 0.5629559074617089\n",
      "cost after 2500 epochs is: 0.5893440598734878\n",
      "cost after 2600 epochs is: 0.5417564152088585\n",
      "cost after 2700 epochs is: 0.681184210665421\n",
      "cost after 2800 epochs is: 0.6295021667612605\n",
      "cost after 2900 epochs is: 0.6506569514115593\n",
      "cost after 3000 epochs is: 0.6819566024744529\n",
      "cost after 3100 epochs is: 0.6494553188593648\n",
      "cost after 3200 epochs is: 0.6743857902650201\n",
      "cost after 3300 epochs is: 0.5801706190649519\n",
      "cost after 3400 epochs is: 0.6389525073484041\n",
      "cost after 3500 epochs is: 0.615541715350405\n",
      "cost after 3600 epochs is: 0.4868634589914075\n",
      "cost after 3700 epochs is: 0.7047912844278461\n",
      "cost after 3800 epochs is: 0.6232701243458033\n",
      "cost after 3900 epochs is: 0.6766577559997602\n",
      "cost after 4000 epochs is: 0.6149827130639256\n",
      "cost after 4100 epochs is: 0.649263578431026\n",
      "cost after 4200 epochs is: 0.588309404777115\n",
      "cost after 4300 epochs is: 0.5882101651964028\n",
      "cost after 4400 epochs is: 0.6846821096716451\n",
      "cost after 4500 epochs is: 0.6492483928683904\n",
      "cost after 4600 epochs is: 0.5776962338972753\n",
      "cost after 4700 epochs is: 0.8550553207750808\n",
      "cost after 4800 epochs is: 0.6853237268093686\n",
      "cost after 4900 epochs is: 0.7217094042220149\n",
      "cost after 5000 epochs is: 0.6129310649086863\n",
      "cost after 5100 epochs is: 0.5405311164588094\n",
      "cost after 5200 epochs is: 0.6126547317175479\n",
      "cost after 5300 epochs is: 0.5759772442619752\n",
      "cost after 5400 epochs is: 0.6860457417624473\n",
      "cost after 5500 epochs is: 0.8267269557722133\n",
      "cost after 5600 epochs is: 0.5503280442522851\n",
      "cost after 5700 epochs is: 0.6230144661641529\n",
      "cost after 5800 epochs is: 0.6241793585961082\n",
      "cost after 5900 epochs is: 0.5751783192059635\n",
      "cost after 6000 epochs is: 0.6121873431675209\n",
      "cost after 6100 epochs is: 0.43811797055098334\n",
      "cost after 6200 epochs is: 0.5354043627510857\n",
      "cost after 6300 epochs is: 0.6865446200054959\n",
      "cost after 6400 epochs is: 0.5870516727810069\n",
      "cost after 6500 epochs is: 0.7237617938578461\n",
      "cost after 6600 epochs is: 0.6866124525020584\n",
      "cost after 6700 epochs is: 0.6327811094524316\n",
      "cost after 6800 epochs is: 0.6120135579515664\n",
      "cost after 6900 epochs is: 0.6243430217157775\n",
      "cost after 7000 epochs is: 0.6493507084972735\n",
      "cost after 7100 epochs is: 0.5744958630944126\n",
      "cost after 7200 epochs is: 0.6118895450674079\n",
      "cost after 7300 epochs is: 0.6993153409214335\n",
      "cost after 7400 epochs is: 0.5119157612826478\n",
      "cost after 7500 epochs is: 0.7244480682874639\n",
      "cost after 7600 epochs is: 0.7244561639592435\n",
      "cost after 7700 epochs is: 0.5117466116762619\n",
      "cost after 7800 epochs is: 0.574153757750549\n"
     ]
    }
   ],
   "source": [
    "layer_dims = [X.shape[0], 5, 3, 1]\n",
    "parameters = model(X, Y, layer_dims, None, learning_rate = 0.0007)"
   ]
  },
  {
   "cell_type": "code",
   "execution_count": null,
   "metadata": {
    "collapsed": true
   },
   "outputs": [],
   "source": []
  }
 ],
 "metadata": {
  "kernelspec": {
   "display_name": "Python 3",
   "language": "python",
   "name": "python3"
  },
  "language_info": {
   "codemirror_mode": {
    "name": "ipython",
    "version": 3
   },
   "file_extension": ".py",
   "mimetype": "text/x-python",
   "name": "python",
   "nbconvert_exporter": "python",
   "pygments_lexer": "ipython3",
   "version": "3.6.1"
  }
 },
 "nbformat": 4,
 "nbformat_minor": 2
}
