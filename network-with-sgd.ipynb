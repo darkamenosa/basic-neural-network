{
 "cells": [
  {
   "cell_type": "code",
   "execution_count": 1,
   "metadata": {
    "collapsed": true
   },
   "outputs": [],
   "source": [
    "import numpy as np\n",
    "import matplotlib.pyplot as plt\n",
    "from sgd_utils import *\n"
   ]
  },
  {
   "cell_type": "markdown",
   "metadata": {},
   "source": [
    "## Load and normalize data"
   ]
  },
  {
   "cell_type": "code",
   "execution_count": 2,
   "metadata": {},
   "outputs": [
    {
     "name": "stdout",
     "output_type": "stream",
     "text": [
      "X shape:  (12288, 209)\n",
      "Y shape:  (1, 209)\n",
      "X_test shape:  (12288, 50)\n",
      "Y_test shape:  (1, 50)\n"
     ]
    }
   ],
   "source": [
    "train_set_x_orig, train_set_y_orig, test_set_x_orig, test_set_y_orig = load_data()\n",
    "X = (train_set_x_orig.reshape(train_set_x_orig.shape[0], -1) / 255.).T\n",
    "Y = (train_set_y_orig.reshape(train_set_y_orig.shape[0], 1)).T\n",
    "X_test = (test_set_x_orig.reshape(test_set_x_orig.shape[0], -1) / 255.).T\n",
    "Y_test = (test_set_y_orig.reshape(test_set_y_orig.shape[0], 1)).T\n",
    "\n",
    "print('X shape: ', X.shape)\n",
    "print('Y shape: ', Y.shape)\n",
    "print('X_test shape: ', X_test.shape)\n",
    "print('Y_test shape: ', Y_test.shape)"
   ]
  },
  {
   "cell_type": "markdown",
   "metadata": {},
   "source": [
    "## Run model with only stochastic gradient descent"
   ]
  },
  {
   "cell_type": "code",
   "execution_count": null,
   "metadata": {},
   "outputs": [
    {
     "name": "stderr",
     "output_type": "stream",
     "text": [
      "/Users/tuyenhx/WorkSpace/research/deeplearning/basic-neural-network/sgd_utils.py:169: RuntimeWarning: divide by zero encountered in log\n",
      "  logprobs = np.multiply(Y, np.log(AL)) + np.multiply(1 - Y, np.log(1 - AL))\n",
      "/Users/tuyenhx/WorkSpace/research/deeplearning/basic-neural-network/sgd_utils.py:169: RuntimeWarning: invalid value encountered in multiply\n",
      "  logprobs = np.multiply(Y, np.log(AL)) + np.multiply(1 - Y, np.log(1 - AL))\n"
     ]
    },
    {
     "name": "stdout",
     "output_type": "stream",
     "text": [
      "cost after 0 epochs is: nan\n"
     ]
    },
    {
     "name": "stderr",
     "output_type": "stream",
     "text": [
      "/Users/tuyenhx/WorkSpace/research/deeplearning/basic-neural-network/sgd_utils.py:28: RuntimeWarning: overflow encountered in exp\n",
      "  A = 1/(1 + np.exp(-Z))\n"
     ]
    },
    {
     "name": "stdout",
     "output_type": "stream",
     "text": [
      "cost after 100 epochs is: nan\n",
      "cost after 200 epochs is: nan\n",
      "cost after 300 epochs is: nan\n",
      "cost after 400 epochs is: nan\n",
      "cost after 500 epochs is: nan\n",
      "cost after 600 epochs is: nan\n",
      "cost after 700 epochs is: nan\n",
      "cost after 800 epochs is: nan\n",
      "cost after 900 epochs is: nan\n"
     ]
    }
   ],
   "source": [
    "layer_dims = [X.shape[0], 5, 3, 1]\n",
    "parameters = model(X, Y, layer_dims, 'adam', learning_rate = 0.0075)"
   ]
  },
  {
   "cell_type": "code",
   "execution_count": null,
   "metadata": {
    "collapsed": true
   },
   "outputs": [],
   "source": []
  }
 ],
 "metadata": {
  "kernelspec": {
   "display_name": "Python 3",
   "language": "python",
   "name": "python3"
  },
  "language_info": {
   "codemirror_mode": {
    "name": "ipython",
    "version": 3
   },
   "file_extension": ".py",
   "mimetype": "text/x-python",
   "name": "python",
   "nbconvert_exporter": "python",
   "pygments_lexer": "ipython3",
   "version": "3.6.1"
  }
 },
 "nbformat": 4,
 "nbformat_minor": 2
}
